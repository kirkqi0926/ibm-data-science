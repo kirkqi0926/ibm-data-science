{
 "cells": [
  {
   "cell_type": "markdown",
   "id": "66baa040",
   "metadata": {},
   "source": [
    "<center>\n",
    "    <img src=\"https://cf-courses-data.s3.us.cloud-object-storage.appdomain.cloud/IBMDeveloperSkillsNetwork-DS0105EN-SkillsNetwork/labs/Module2/images/SN_web_lightmode.png\" width=\"300\" alt=\"cognitiveclass.ai logo\">\n",
    "</center>\n"
   ]
  },
  {
   "cell_type": "markdown",
   "id": "cf849450",
   "metadata": {},
   "source": [
    "# Data Science Tools and Ecosystem"
   ]
  },
  {
   "cell_type": "markdown",
   "id": "fcd35987",
   "metadata": {},
   "source": [
    "In this notebook, some homeworks are here."
   ]
  },
  {
   "cell_type": "markdown",
   "id": "e0e1580f",
   "metadata": {},
   "source": [
    "###Some of the popular languages that Data Scientists use are:\n",
    "\n",
    "l.SQL\n",
    "\n",
    "2.Python\n",
    "\n",
    "3.R"
   ]
  },
  {
   "cell_type": "markdown",
   "id": "6ee044b9",
   "metadata": {},
   "source": [
    "###Some of the commonly used libraries used by Data Scientists include:\n",
    "\n",
    "1.Pandas\n",
    "\n",
    "2.NumPy\n",
    "\n",
    "3.Scikit-Learn\n",
    "\n",
    "4.Matplotlib\n",
    "\n",
    "5.Seaborn"
   ]
  },
  {
   "cell_type": "markdown",
   "id": "5f8725f2",
   "metadata": {},
   "source": [
    "\n",
    "| Data Science Tools | \n",
    "| --- | \n",
    "SAS (Statistical Analysis System)\n",
    "Apache Spark\n",
    "Data Robot\n",
    "Tableau | "
   ]
  },
  {
   "cell_type": "markdown",
   "id": "f2576072",
   "metadata": {},
   "source": [
    "### Below are a few examples of evaluating arithmetic expressions in Python"
   ]
  },
  {
   "cell_type": "code",
   "execution_count": 4,
   "id": "4a0ec601",
   "metadata": {},
   "outputs": [
    {
     "data": {
      "text/plain": [
       "0.42857142857142855"
      ]
     },
     "execution_count": 4,
     "metadata": {},
     "output_type": "execute_result"
    }
   ],
   "source": [
    "m = 3\n",
    "n = 7\n",
    "m /n "
   ]
  },
  {
   "cell_type": "code",
   "execution_count": 5,
   "id": "5c6a9260",
   "metadata": {},
   "outputs": [
    {
     "data": {
      "text/plain": [
       "10"
      ]
     },
     "execution_count": 5,
     "metadata": {},
     "output_type": "execute_result"
    }
   ],
   "source": [
    "m + n"
   ]
  },
  {
   "cell_type": "code",
   "execution_count": 6,
   "id": "2d7dfe8e",
   "metadata": {},
   "outputs": [
    {
     "data": {
      "text/plain": [
       "21"
      ]
     },
     "execution_count": 6,
     "metadata": {},
     "output_type": "execute_result"
    }
   ],
   "source": [
    "m * n"
   ]
  },
  {
   "cell_type": "code",
   "execution_count": 7,
   "id": "bc91e6b2",
   "metadata": {},
   "outputs": [
    {
     "data": {
      "text/plain": [
       "17"
      ]
     },
     "execution_count": 7,
     "metadata": {},
     "output_type": "execute_result"
    }
   ],
   "source": [
    "# This a simple arithmetic expression to mutiply then add integers\n",
    "(3*4)+5"
   ]
  },
  {
   "cell_type": "code",
   "execution_count": 19,
   "id": "9d9de507",
   "metadata": {},
   "outputs": [
    {
     "name": "stdout",
     "output_type": "stream",
     "text": [
      "3.3333333333333335 hours\n"
     ]
    }
   ],
   "source": [
    "# converts 200 minutes into hours\n",
    "improt_minutes = 200\n",
    "\n",
    "hours = improt_minutes / 60\n",
    "\n",
    "print(f\"{hours} hours\")"
   ]
  },
  {
   "cell_type": "markdown",
   "id": "26f6ba3e",
   "metadata": {},
   "source": [
    "**Objectives:**\n",
    "1. SQL is the interpreter between you and the database. \n",
    "1. R has become the world’s largest repository of statistical knowledge. \n",
    "1. Python is a high-level general-purpose programming language that can be applied to many different classes of problems. \n",
    "\n"
   ]
  },
  {
   "cell_type": "markdown",
   "id": "4fbb8d25",
   "metadata": {},
   "source": [
    "## Author\n",
    "Kai Qi"
   ]
  },
  {
   "cell_type": "code",
   "execution_count": null,
   "id": "9bf23a82",
   "metadata": {},
   "outputs": [],
   "source": []
  }
 ],
 "metadata": {
  "kernelspec": {
   "display_name": "Python 3 (ipykernel)",
   "language": "python",
   "name": "python3"
  },
  "language_info": {
   "codemirror_mode": {
    "name": "ipython",
    "version": 3
   },
   "file_extension": ".py",
   "mimetype": "text/x-python",
   "name": "python",
   "nbconvert_exporter": "python",
   "pygments_lexer": "ipython3",
   "version": "3.9.13"
  }
 },
 "nbformat": 4,
 "nbformat_minor": 5
}
